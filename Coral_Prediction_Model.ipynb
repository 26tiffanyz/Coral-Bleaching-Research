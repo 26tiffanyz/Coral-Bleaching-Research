{
  "cells": [
    {
      "cell_type": "markdown",
      "metadata": {
        "id": "view-in-github",
        "colab_type": "text"
      },
      "source": [
        "<a href=\"https://colab.research.google.com/github/26tiffanyz/Coral-Bleaching-Research/blob/main/Coral_Prediction_Model.ipynb\" target=\"_parent\"><img src=\"https://colab.research.google.com/assets/colab-badge.svg\" alt=\"Open In Colab\"/></a>"
      ]
    },
    {
      "cell_type": "code",
      "execution_count": null,
      "metadata": {
        "id": "jBC_TG7AK2FI"
      },
      "outputs": [],
      "source": [
        "# Reference https://pytorch.org/tutorials/beginner/transfer_learning_tutorial.html\n",
        "# Author: Tiffany Zhu\n",
        "# Machine learning model that classifies coral images as either 'living' or 'dead' using transfer learning with pre-trained ResNet-50 model.\n",
        "\n",
        "from __future__ import print_function, division\n",
        "\n",
        "import torch\n",
        "import torch.nn as nn\n",
        "import torch.optim as optim\n",
        "from torch.optim import lr_scheduler\n",
        "import torch.backends.cudnn as cudnn\n",
        "import numpy as np\n",
        "import torchvision\n",
        "from torchvision import datasets, models, transforms\n",
        "import matplotlib.pyplot as plt\n",
        "import time\n",
        "import os\n",
        "import copy\n",
        "\n",
        "cudnn.benchmark = True\n",
        "plt.ion() # interactive mode for matplotlib"
      ]
    },
    {
      "cell_type": "code",
      "execution_count": 1,
      "metadata": {
        "colab": {
          "base_uri": "https://localhost:8080/"
        },
        "id": "8Nh7A0Ogr-E4",
        "outputId": "1e160a04-e2a5-49a9-ffe3-48c513a397ae"
      },
      "outputs": [
        {
          "output_type": "stream",
          "name": "stdout",
          "text": [
            "Drive not mounted, so nothing to flush and unmount.\n",
            "Mounted at /content/drive\n",
            "Mounted Google Drive\n"
          ]
        }
      ],
      "source": [
        "# Set data directory path and mount Google Drive\n",
        "data_dir = '/content/drive/My Drive/coral-data'\n",
        "if 'drive' in data_dir:\n",
        "  from google.colab import drive\n",
        "  drive.flush_and_unmount()\n",
        "  drive.mount('/content/drive')\n",
        "  print('Mounted Google Drive')"
      ]
    },
    {
      "cell_type": "code",
      "execution_count": null,
      "metadata": {
        "id": "bAf1VDFbt8GC"
      },
      "outputs": [],
      "source": [
        "# Data augmentation and normalization for training\n",
        "# Standardize the image size, brightness for training and validation sets\n",
        "data_transforms = {\n",
        "    'train': transforms.Compose([\n",
        "        transforms.RandomResizedCrop(224),\n",
        "        transforms.RandomHorizontalFlip(),\n",
        "        transforms.ToTensor(),\n",
        "        transforms.Normalize([0.485, 0.456, 0.406], [0.229, 0.224, 0.225])\n",
        "    ]),\n",
        "    'val': transforms.Compose([\n",
        "        transforms.Resize(256),\n",
        "        transforms.CenterCrop(224),\n",
        "        transforms.ToTensor(),\n",
        "        transforms.Normalize([0.485, 0.456, 0.406], [0.229, 0.224, 0.225])\n",
        "    ]),\n",
        "}\n",
        "\n",
        "# Load datasets and create loaders\n",
        "def load_datasets(datadir):\n",
        "    return {x: datasets.ImageFolder(os.path.join(data_dir, x),\n",
        "                                          data_transforms[x])\n",
        "            for x in ['train', 'val']}\n",
        "\n",
        "image_datasets = load_datasets(data_dir)\n",
        "dataloaders = {x: torch.utils.data.DataLoader(image_datasets[x], batch_size=4,\n",
        "                                             shuffle=True, num_workers=4)\n",
        "              for x in ['train', 'val']}\n",
        "\n",
        "# Get dataset sizes and class names\n",
        "dataset_sizes = {x: len(image_datasets[x]) for x in ['train', 'val']}\n",
        "class_names = image_datasets['train'].classes\n",
        "print(\"total images for training and validation\", dataset_sizes)\n",
        "\n",
        "# Set device, GPU or CPU\n",
        "device = torch.device(\"cuda:0\" if torch.cuda.is_available() else \"cpu\")"
      ]
    },
    {
      "cell_type": "code",
      "execution_count": null,
      "metadata": {
        "id": "QesMyzdpuTM2"
      },
      "outputs": [],
      "source": [
        "# Show example of some training images, display images with normalization\n",
        "def imshow(inp, title=None):\n",
        "    \"\"\"Imshow for Tensor.\"\"\"\n",
        "    inp = inp.numpy().transpose((1, 2, 0))\n",
        "    mean = np.array([0.485, 0.456, 0.406])\n",
        "    std = np.array([0.229, 0.224, 0.225])\n",
        "    inp = std * inp + mean\n",
        "    inp = np.clip(inp, 0, 1)\n",
        "    plt.imshow(inp)\n",
        "    if title is not None:\n",
        "        plt.title(title)\n",
        "    plt.pause(0.001)  # pause a bit so that plots are updated\n",
        "\n",
        "\n",
        "\n",
        "# Get a batch of training data\n",
        "inputs, classes = next(iter(dataloaders['train']), [None, None])\n",
        "di = li = 0\n",
        "while di < 10 and li < 10:\n",
        "  for x in classes:\n",
        "    if class_names[x] == 'living':\n",
        "      li += 1\n",
        "    else:\n",
        "      di += 1\n",
        "\n",
        "  # Make a grid from the batch\n",
        "  out = torchvision.utils.make_grid(inputs)\n",
        "\n",
        "  imshow(out, title=[class_names[x] for x in classes])\n",
        "  inputs, classes = next(iter(dataloaders['train']), [None, None])\n",
        "  print(\"Total training images of living and dead\", li, di)\n"
      ]
    },
    {
      "cell_type": "code",
      "execution_count": 5,
      "metadata": {
        "id": "Yf1UvjmpuZic"
      },
      "outputs": [],
      "source": [
        "# Train the model and return best model based on validation accuracy\n",
        "def train_model(model, criterion, optimizer, scheduler, num_epochs=25):\n",
        "    since = time.time()\n",
        "\n",
        "    best_model_wts = copy.deepcopy(model.state_dict())\n",
        "    best_acc = 0.0\n",
        "\n",
        "    for epoch in range(num_epochs):\n",
        "        print(f'Epoch {epoch}/{num_epochs - 1}')\n",
        "        print('-' * 10)\n",
        "\n",
        "        # Each epoch has a training and validation phase\n",
        "        for phase in ['train', 'val']:\n",
        "            if phase == 'train':\n",
        "                model.train()\n",
        "            else:\n",
        "                model.eval()\n",
        "\n",
        "            running_loss = 0.0\n",
        "            running_corrects = 0\n",
        "\n",
        "            # Iterate over the data\n",
        "            for inputs, labels in dataloaders[phase]:\n",
        "                inputs = inputs.to(device)\n",
        "                labels = labels.to(device)\n",
        "\n",
        "                # Zero the parameter gradients\n",
        "                optimizer.zero_grad()\n",
        "\n",
        "                # Forward pass\n",
        "                with torch.set_grad_enabled(phase == 'train'):\n",
        "                    outputs = model(inputs)\n",
        "                    _, preds = torch.max(outputs, 1)\n",
        "                    loss = criterion(outputs, labels)\n",
        "\n",
        "                    # Backward pass + optimize only if in training phase\n",
        "                    if phase == 'train':\n",
        "                        loss.backward()\n",
        "                        optimizer.step()\n",
        "\n",
        "                # Track the statistics\n",
        "                running_loss += loss.item() * inputs.size(0)\n",
        "                running_corrects += torch.sum(preds == labels.data)\n",
        "\n",
        "            # Update the learning rate\n",
        "            if phase == 'train':\n",
        "                scheduler.step()\n",
        "\n",
        "            epoch_loss = running_loss / dataset_sizes[phase]\n",
        "            epoch_acc = running_corrects.double() / dataset_sizes[phase]\n",
        "\n",
        "            print(f'{phase} Loss: {epoch_loss:.4f} Acc: {epoch_acc:.4f}')\n",
        "\n",
        "            # Copy the best model\n",
        "            if phase == 'val' and epoch_acc > best_acc:\n",
        "                best_acc = epoch_acc\n",
        "                best_model_wts = copy.deepcopy(model.state_dict())\n",
        "\n",
        "        print()\n",
        "\n",
        "    # Reporting the time it took to train\n",
        "    time_elapsed = time.time() - since\n",
        "    print(f'Training complete in {time_elapsed // 60:.0f}m {time_elapsed % 60:.0f}s')\n",
        "    print(f'Best val Acc: {best_acc:4f}')\n",
        "\n",
        "    # Load best model weights\n",
        "    model.load_state_dict(best_model_wts)\n",
        "    return model\n"
      ]
    },
    {
      "cell_type": "code",
      "execution_count": 6,
      "metadata": {
        "id": "ptThjqrLufEt"
      },
      "outputs": [],
      "source": [
        "# Visualize the model predictions on validation set and show mislassifications\n",
        "def visualize_model(model, num_images_to_show=20):\n",
        "    was_training = model.training\n",
        "    model.eval()\n",
        "    images_so_far = 0\n",
        "    fig = plt.figure()\n",
        "\n",
        "    # Counters for classification results\n",
        "    num_living_correct = num_dead_correct = num_living_wrong = num_dead_wrong = 0\n",
        "\n",
        "    with torch.no_grad():\n",
        "        for i, (inputs, labels) in enumerate(dataloaders['val']):\n",
        "            inputs = inputs.to(device)\n",
        "            labels = labels.to(device)\n",
        "\n",
        "            # Forward pass\n",
        "            outputs = model(inputs)\n",
        "            _, preds = torch.max(outputs, 1)\n",
        "\n",
        "            print(\"Total images: \", inputs.size()[0])\n",
        "\n",
        "            # Looping through each image in the batch to count\n",
        "            for j in range(inputs.size()[0]):\n",
        "                images_so_far += 1\n",
        "                pred = class_names[preds[j]]\n",
        "                actual = class_names[labels[j]]\n",
        "                if actual == 'dead':\n",
        "                  if pred == 'dead':\n",
        "                    num_dead_correct += 1\n",
        "                  else:\n",
        "                    num_dead_wrong += 1\n",
        "                if actual == 'living':\n",
        "                  if pred == 'living':\n",
        "                    num_living_correct += 1\n",
        "                  else:\n",
        "                    num_living_wrong += 1\n",
        "\n",
        "                # Display the wrongly classified images\n",
        "                num_diffs = num_living_wrong + num_dead_wrong\n",
        "                if (num_diffs < num_images_to_show and actual != pred):\n",
        "                  plt.figure(figsize=(40, 40))\n",
        "                  ax = plt.subplot(num_images_to_show//2, 2, num_diffs)\n",
        "                  ax.axis('off')\n",
        "                  ax.set_title(f'pred: {pred}, actual: {actual}')\n",
        "                  imshow(inputs.cpu().data[j])\n",
        "\n",
        "        print(f\"num_living_correct: {num_living_correct}, num_living_wrong: {num_living_wrong}\")\n",
        "        print(f\"num_dead_correct: {num_dead_correct}, num_dead_wrong: {num_dead_wrong}\")\n",
        "\n",
        "        # Bring back to original training state\n",
        "        model.train(mode=was_training)\n"
      ]
    },
    {
      "cell_type": "code",
      "execution_count": null,
      "metadata": {
        "id": "w-t1RWhxujQc"
      },
      "outputs": [],
      "source": [
        "# Fine-tuning a pre-trained ResNet-50 model\n",
        "model_ft = models.resnet50(pretrained=True) # Load model\n",
        "num_ftrs = model_ft.fc.in_features # Replace fully connected layer to match binary classification\n",
        "model_ft.fc = nn.Linear(num_ftrs, 2) # 2 is num of output types\n",
        "\n",
        "model_ft = model_ft.to(device)\n",
        "\n",
        "criterion = nn.CrossEntropyLoss() # My loss function\n",
        "\n",
        "# Optimizing all parameters for fine tuning\n",
        "optimizer_ft = optim.SGD(model_ft.parameters(), lr=0.001, momentum=0.9)\n",
        "\n",
        "# Decay LR by a factor of 0.1 every 7 epochs\n",
        "exp_lr_scheduler = lr_scheduler.StepLR(optimizer_ft, step_size=7, gamma=0.1)\n"
      ]
    },
    {
      "cell_type": "code",
      "execution_count": null,
      "metadata": {
        "id": "BudkYCLVupw6"
      },
      "outputs": [],
      "source": [
        "# Train model\n",
        "model_ft = train_model(model_ft, criterion, optimizer_ft, exp_lr_scheduler,\n",
        "                       num_epochs=25)"
      ]
    },
    {
      "cell_type": "code",
      "execution_count": null,
      "metadata": {
        "id": "B-mEzwVVQyDC"
      },
      "outputs": [],
      "source": [
        "# Visualize results\n",
        "visualize_model(model_ft)"
      ]
    }
  ],
  "metadata": {
    "accelerator": "GPU",
    "colab": {
      "provenance": [],
      "gpuClass": "premium",
      "machine_shape": "hm",
      "gpuType": "T4",
      "include_colab_link": true
    },
    "kernelspec": {
      "display_name": "Python 3",
      "name": "python3"
    },
    "language_info": {
      "name": "python"
    }
  },
  "nbformat": 4,
  "nbformat_minor": 0
}